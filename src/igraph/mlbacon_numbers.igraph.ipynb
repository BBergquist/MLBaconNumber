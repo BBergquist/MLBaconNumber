{
 "cells": [
  {
   "cell_type": "code",
   "execution_count": 46,
   "metadata": {},
   "outputs": [],
   "source": [
    "all_rosters_path = \"../../data/Rosters/all_rosters.csv\"\n",
    "teams_path = \"../../data/teams.csv\"\n",
    "first_game_path = \"../../data/first_game.csv\"\n",
    "bacon_numbers_path = \"../../data/bacon_numbers.csv\"\n",
    "MAX_BACON_NUMBER = 15  # Actual max is 9 right now. 15 adds some padding."
   ]
  },
  {
   "cell_type": "code",
   "execution_count": 47,
   "metadata": {},
   "outputs": [],
   "source": [
    "import pandas as pd\n",
    "from igraph import Graph"
   ]
  },
  {
   "cell_type": "code",
   "execution_count": 48,
   "metadata": {},
   "outputs": [],
   "source": [
    "all_rosters = pd.read_csv(all_rosters_path, index_col=None)\n",
    "all_rosters.fillna(\"?\", inplace=True)\n",
    "all_rosters[\"full_name\"] = all_rosters[\"first\"] + \" \" + all_rosters[\"last\"]\n",
    "# print(all_rosters)"
   ]
  },
  {
   "cell_type": "code",
   "execution_count": 49,
   "metadata": {},
   "outputs": [],
   "source": [
    "all_teams = pd.read_csv(teams_path, index_col=None)\n",
    "teams = all_teams.groupby(\"team_id\").agg(\n",
    "    min_year=pd.NamedAgg(\"year_id\", \"min\"),\n",
    "    max_year=pd.NamedAgg(\"year_id\", \"max\"),\n",
    "    full_name=pd.NamedAgg(\"name\", \"first\")\n",
    ")\n",
    "teams[\"id\"] = teams.index\n",
    "teams[\"type\"] = \"team\"\n",
    "# print(all_teams)"
   ]
  },
  {
   "cell_type": "code",
   "execution_count": 50,
   "metadata": {},
   "outputs": [],
   "source": [
    "team_names = all_teams.loc[:, [\"name\", \"team_id\"]]\n",
    "team_names = team_names.groupby(\"team_id\").agg(team_name=pd.NamedAgg(\"name\", \"first\"))"
   ]
  },
  {
   "cell_type": "code",
   "execution_count": 51,
   "metadata": {},
   "outputs": [
    {
     "name": "stdout",
     "output_type": "stream",
     "text": [
      "        year player_id     last     first bats throws  team_id position  \\\n",
      "0       1884  berrc102    Berry   Charlie    R      R  ALT1884       2B   \n",
      "1       1884  browj106    Brown       Jim    ?      ?  ALT1884       OF   \n",
      "2       1884  carrp101  Carroll       Pat    ?      ?  ALT1884        C   \n",
      "3       1884  connj102  Connors       Joe    ?      ?  ALT1884       3B   \n",
      "4       1884  crosc101    Cross  Clarence    ?      ?  ALT1884       3B   \n",
      "...      ...       ...      ...       ...  ...    ...      ...      ...   \n",
      "110425  1884  wardj104     Ward      John    ?      ?  WSU1884       OF   \n",
      "110426  1884  whitw102    White    Warren    ?      ?  WSU1884       3B   \n",
      "110427  1884  wilej101    Wiley    Joseph    ?      ?  WSU1884       3B   \n",
      "110428  1884  wiseb101     Wise      Bill    ?      ?  WSU1884        P   \n",
      "110429  1884  yewee101   Yewell        Ed    ?      ?  WSU1884       3B   \n",
      "\n",
      "             full_name                   team_name  \n",
      "0        Charlie Berry  1884 Altoona Mountain City  \n",
      "1            Jim Brown  1884 Altoona Mountain City  \n",
      "2          Pat Carroll  1884 Altoona Mountain City  \n",
      "3          Joe Connors  1884 Altoona Mountain City  \n",
      "4       Clarence Cross  1884 Altoona Mountain City  \n",
      "...                ...                         ...  \n",
      "110425       John Ward   1884 Washington Nationals  \n",
      "110426    Warren White   1884 Washington Nationals  \n",
      "110427    Joseph Wiley   1884 Washington Nationals  \n",
      "110428       Bill Wise   1884 Washington Nationals  \n",
      "110429       Ed Yewell   1884 Washington Nationals  \n",
      "\n",
      "[110430 rows x 10 columns]\n"
     ]
    }
   ],
   "source": [
    "all_rosters[\"team_id\"] = all_rosters[\"team_id\"] + all_rosters[\"year\"].map(str)\n",
    "all_rosters = all_rosters.merge(team_names, how=\"left\", on=\"team_id\")\n",
    "all_rosters[\"team_name\"] = all_rosters[\"year\"].map(str) + (\" \" + all_rosters[\"team_name\"])\n",
    "# print(all_rosters)"
   ]
  },
  {
   "cell_type": "code",
   "execution_count": 52,
   "metadata": {},
   "outputs": [],
   "source": [
    "players = all_rosters.groupby(\"player_id\").agg(\n",
    "    min_year=pd.NamedAgg(\"year\", \"min\"),\n",
    "    max_year=pd.NamedAgg(\"year\", \"max\"),\n",
    "    full_name=pd.NamedAgg(\"full_name\", \"first\")\n",
    ")\n",
    "players[\"id\"] = players.index\n",
    "players[\"type\"] = \"player\"\n",
    "# print(players)"
   ]
  },
  {
   "cell_type": "code",
   "execution_count": 53,
   "metadata": {},
   "outputs": [],
   "source": [
    "first_game_vertex = pd.DataFrame(\n",
    "    {\n",
    "        'id': 'first_game',\n",
    "        'min_year': 1871,\n",
    "        'max_year': 1871,\n",
    "        'full_name': 'The First Professional Baseball Game',\n",
    "        'type': 'metadata'\n",
    "    },\n",
    "    index=[list(range(1))]\n",
    ")\n",
    "# print(first_game_vertex)"
   ]
  },
  {
   "cell_type": "code",
   "execution_count": 54,
   "metadata": {},
   "outputs": [],
   "source": [
    "vertices = pd.concat([first_game_vertex, teams, players], ignore_index=True)\n",
    "# print(vertices)"
   ]
  },
  {
   "cell_type": "code",
   "execution_count": 55,
   "metadata": {},
   "outputs": [],
   "source": [
    "first_game = pd.read_csv(first_game_path, index_col=None)\n",
    "# print(first_game)"
   ]
  },
  {
   "cell_type": "code",
   "execution_count": 56,
   "metadata": {},
   "outputs": [],
   "source": [
    "played_for_team = all_rosters.loc[:, [\"year\", \"player_id\", \"team_id\", \"team_name\"]]\n",
    "played_for_team.rename(columns={\"player_id\":\"src\", \"team_id\":\"dst\"}, inplace=True)\n",
    "edges = pd.concat([first_game, played_for_team.loc[:, [\"src\", \"dst\"]]], ignore_index=True)\n",
    "# print(played_for_team)"
   ]
  },
  {
   "cell_type": "code",
   "execution_count": 57,
   "metadata": {},
   "outputs": [],
   "source": [
    "g = Graph.DataFrame(edges, directed=False, vertices=vertices, use_vids=False)\n",
    "bacon_numbers = g.distances(\"first_game\")"
   ]
  },
  {
   "cell_type": "code",
   "execution_count": 58,
   "metadata": {},
   "outputs": [
    {
     "name": "stderr",
     "output_type": "stream",
     "text": [
      "/tmp/ipykernel_371/391587885.py:3: SettingWithCopyWarning: \n",
      "A value is trying to be set on a copy of a slice from a DataFrame.\n",
      "Try using .loc[row_indexer,col_indexer] = value instead\n",
      "\n",
      "See the caveats in the documentation: https://pandas.pydata.org/pandas-docs/stable/user_guide/indexing.html#returning-a-view-versus-a-copy\n",
      "  player_distances[\"bacon_number\"] = ((player_distances[\"distance\"] - 1) / 2).map(int)\n"
     ]
    }
   ],
   "source": [
    "vertices[\"distance\"] = bacon_numbers[0]\n",
    "player_distances = vertices[(vertices['type'] == 'player')]\n",
    "player_distances[\"bacon_number\"] = ((player_distances[\"distance\"] - 1) / 2).map(int)\n",
    "player_bacon_numbers = player_distances.loc[:, [\"id\", \"full_name\", \"min_year\", \"max_year\", \"bacon_number\"]]\n",
    "# print(player_bacon_numbers.sort_values(by=\"id\"))"
   ]
  },
  {
   "cell_type": "code",
   "execution_count": 59,
   "metadata": {},
   "outputs": [],
   "source": [
    "bacon_numbers_and_played_for = player_bacon_numbers.merge(\n",
    "    played_for_team, \"inner\",\n",
    "    left_on=\"id\", right_on=\"src\"\n",
    ").loc[:, [\"id\", \"full_name\", \"min_year\", \"max_year\", \"bacon_number\", \"dst\", \"team_name\"]]\n",
    "# print(bacon_numbers_and_played_for)"
   ]
  },
  {
   "cell_type": "code",
   "execution_count": 60,
   "metadata": {},
   "outputs": [],
   "source": [
    "player_bacon_paths = bacon_numbers_and_played_for.merge(\n",
    "    bacon_numbers_and_played_for,\n",
    "    how=\"inner\",\n",
    "    on=\"dst\"\n",
    ")\n",
    "player_bacon_paths = player_bacon_paths[(player_bacon_paths[\"id_x\"] != player_bacon_paths[\"id_y\"])]\n",
    "player_bacon_paths = player_bacon_paths[((player_bacon_paths[\"bacon_number_x\"] > player_bacon_paths[\"bacon_number_y\"])\n",
    "                                         | (player_bacon_paths[\"bacon_number_x\"] == 0))]\n",
    "player_bacon_paths = player_bacon_paths.groupby(\"id_x\").agg(\n",
    "    player=pd.NamedAgg(\"full_name_x\", \"first\"),\n",
    "    min_year=pd.NamedAgg(\"min_year_x\", \"first\"),\n",
    "    max_year=pd.NamedAgg(\"max_year_x\", \"first\"),\n",
    "    bacon_number=pd.NamedAgg(\"bacon_number_x\", \"first\"),\n",
    "    team=pd.NamedAgg(\"team_name_x\", \"first\"),\n",
    "    teammate=pd.NamedAgg(\"full_name_y\", \"first\"),\n",
    "    teammate_id=pd.NamedAgg(\"id_y\", \"first\")\n",
    ")\n",
    "player_bacon_paths.loc[player_bacon_paths[\"bacon_number\"] == 0, \"teammate_id\"] = \"\"\n",
    "player_bacon_paths.loc[player_bacon_paths[\"bacon_number\"] == 0, \"teammate\"] = \"\"\n",
    "player_bacon_paths.loc[player_bacon_paths[\"bacon_number\"] == 0, \"team\"] = \"\"\n",
    "\n",
    "teammates = player_bacon_paths.loc[:, [\"team\", \"teammate\", \"teammate_id\"]]\n",
    "teammates[\"player_id\"] = teammates.index\n",
    "teammates = teammates.reset_index(drop=True)\n",
    "teammates.index.names = [\"row\"]\n",
    "\n",
    "player_bacon_paths.index.names = [\"id\"]\n",
    "player_bacon_paths.rename(columns={\"team\": \"team_1\", \"teammate\": \"teammate_1\", \"teammate_id\": \"teammate_id_1\"}, inplace=True)\n",
    "# print(player_bacon_paths)"
   ]
  },
  {
   "cell_type": "code",
   "execution_count": 61,
   "metadata": {},
   "outputs": [],
   "source": [
    "for i in range(1, MAX_BACON_NUMBER):\n",
    "    player_bacon_paths = player_bacon_paths.merge(\n",
    "        teammates,\n",
    "        how=\"left\",\n",
    "        left_on=f\"teammate_id_{i}\",\n",
    "        right_on=\"player_id\"\n",
    "    )\n",
    "    player_bacon_paths.rename(columns={\n",
    "        \"teammate\": f\"teammate_{i + 1}\",\n",
    "        \"team\": f\"team_{i + 1}\",\n",
    "        \"teammate_id\": f\"teammate_id_{i + 1}\"\n",
    "    }, inplace=True)\n",
    "    player_bacon_paths.drop(columns=[\"player_id\", f\"teammate_id_{i}\"], inplace=True)\n",
    "# print(player_bacon_paths)"
   ]
  },
  {
   "cell_type": "code",
   "execution_count": 62,
   "metadata": {},
   "outputs": [],
   "source": [
    "player_bacon_paths.dropna(axis='columns', how='all').to_csv(bacon_numbers_path, index=False)"
   ]
  }
 ],
 "metadata": {
  "kernelspec": {
   "display_name": "Python 3.10.8 64-bit",
   "language": "python",
   "name": "python3"
  },
  "language_info": {
   "codemirror_mode": {
    "name": "ipython",
    "version": 3
   },
   "file_extension": ".py",
   "mimetype": "text/x-python",
   "name": "python",
   "nbconvert_exporter": "python",
   "pygments_lexer": "ipython3",
   "version": "3.10.8"
  },
  "orig_nbformat": 4,
  "vscode": {
   "interpreter": {
    "hash": "949777d72b0d2535278d3dc13498b2535136f6dfe0678499012e853ee9abcab1"
   }
  }
 },
 "nbformat": 4,
 "nbformat_minor": 2
}
